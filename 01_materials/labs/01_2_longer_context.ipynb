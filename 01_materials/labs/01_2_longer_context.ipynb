{
 "cells": [
  {
   "cell_type": "markdown",
   "id": "9e6711f7",
   "metadata": {},
   "source": [
    "# Introduction\n",
    "\n",
    "In this notebook, we will explore the OpenAI library. We will also acquire data in different ways, such that we can inform our queries."
   ]
  },
  {
   "cell_type": "markdown",
   "id": "e9252173",
   "metadata": {},
   "source": [
    "The setup is not different from what we have done before."
   ]
  },
  {
   "cell_type": "code",
   "execution_count": null,
   "id": "b76030d2",
   "metadata": {},
   "outputs": [],
   "source": [
    "%load_ext dotenv\n",
    "%dotenv ../../05_src/.env\n",
    "%dotenv ../../05_src/.secrets"
   ]
  },
  {
   "cell_type": "code",
   "execution_count": null,
   "id": "6accefb4",
   "metadata": {},
   "outputs": [],
   "source": [
    "import sys\n",
    "sys.path.append('../../05_src/')"
   ]
  },
  {
   "cell_type": "code",
   "execution_count": null,
   "id": "73bd2169",
   "metadata": {},
   "outputs": [],
   "source": [
    "from utils.logger import get_logger\n",
    "_logs = get_logger(__name__)"
   ]
  },
  {
   "cell_type": "code",
   "execution_count": null,
   "id": "5261a7d1",
   "metadata": {},
   "outputs": [],
   "source": [
    "from openai import OpenAI\n",
    "client = OpenAI()"
   ]
  },
  {
   "cell_type": "markdown",
   "id": "05951acf",
   "metadata": {},
   "source": [
    "2. We create an API call and store the result in the variable `response`. Notice that the call specifies the model that we want to use, as well as an input. This is a simple call, the [responses API can handle more complex calls](https://platform.openai.com/docs/api-reference/responses)."
   ]
  },
  {
   "cell_type": "markdown",
   "id": "150e68af",
   "metadata": {},
   "source": [
    "# Longer Context"
   ]
  },
  {
   "cell_type": "markdown",
   "id": "f829ef4f",
   "metadata": {},
   "source": [
    "Thus far, we have manually created our context and prompt. We can use any of Python text manipulation tools to create documents. \n",
    "\n",
    "For instance, in the code below, we will use the request library to download a book from Project Guttenberg and include it as part of the context. Some useful links are:\n",
    "\n",
    "- Python's [request](https://pypi.org/project/requests/) library.\n",
    "- Python's request library [documentation](https://requests.readthedocs.io/en/latest/).\n"
   ]
  },
  {
   "cell_type": "code",
   "execution_count": null,
   "id": "44042a32",
   "metadata": {},
   "outputs": [],
   "source": [
    "import requests\n",
    "file_url = 'https://www.gutenberg.org/cache/epub/223/pg223.txt'\n",
    "book = requests.get(file_url)"
   ]
  },
  {
   "cell_type": "markdown",
   "id": "46d88ab2",
   "metadata": {},
   "source": [
    "The code below shows how to obtain the headers in the response. "
   ]
  },
  {
   "cell_type": "code",
   "execution_count": null,
   "id": "3d5781e5",
   "metadata": {},
   "outputs": [],
   "source": [
    "dict(book.headers)"
   ]
  },
  {
   "cell_type": "markdown",
   "id": "3e02ebd8",
   "metadata": {},
   "source": [
    "We can also obtain the payload using `book.text` or `book.content`."
   ]
  },
  {
   "cell_type": "code",
   "execution_count": null,
   "id": "484ffc16",
   "metadata": {},
   "outputs": [],
   "source": [
    "print(book.text)"
   ]
  },
  {
   "cell_type": "markdown",
   "id": "3880689e",
   "metadata": {},
   "source": [
    "With added content, we can also write more interesting prompts. Notice the use of Python's f-strings or formatted strings. \n",
    "\n",
    "When using formatted strings, remember two things:\n",
    "\n",
    "+ Formatted strings are prefixed with f:  `f'This is a formatted string: {some_variable}.`\n",
    "+ You can enclose variable names in `{...}` and their values will appear in formatted strings: `f'The variable value is {variable}.`"
   ]
  },
  {
   "cell_type": "code",
   "execution_count": null,
   "id": "2c3aa66f",
   "metadata": {},
   "outputs": [],
   "source": [
    "prompt = f\"\"\"\n",
    "    You are a literary historian. \n",
    "    Given the following context from a book, do the following:\n",
    "    \n",
    "    1. Identify the book's title and author.\n",
    "    2. Determine how many stories are included in the book.\n",
    "    3. Summarize concisely in no more than 5 paragraphs the first story of the book called \"The Absence of Mr Glass\".\n",
    "        \n",
    "    The book is the following: \n",
    "    <book>\n",
    "    {book.text}\n",
    "    </book>\n",
    "\n",
    "    Provide your response in the following format:\n",
    "    Title: <title>\n",
    "    Author: <author>\n",
    "    Number of Stories: <number_of_stories>\n",
    "    Summary: <summary>\n",
    "\"\"\""
   ]
  },
  {
   "cell_type": "code",
   "execution_count": null,
   "id": "1dad9872",
   "metadata": {},
   "outputs": [],
   "source": [
    "response = client.responses.create(\n",
    "    model = 'gpt-4o',\n",
    "    input = prompt,\n",
    ")\n"
   ]
  },
  {
   "cell_type": "code",
   "execution_count": null,
   "id": "86928b2a",
   "metadata": {},
   "outputs": [],
   "source": [
    "print(response.output_text)"
   ]
  },
  {
   "cell_type": "markdown",
   "id": "a2f76cba",
   "metadata": {},
   "source": [
    "# Adding a Developer Prompt\n",
    "\n",
    "Using the OpenAI library, we can specify prompts for different roles:\n",
    "\n",
    "+ *Developer* messages are instructions provided by the application developer, prioritized ahead of user messages. In previous iterations of the API, these were called *System* messages.\n",
    "+ *User* messages are instructions provided by an end user, prioritized below developer messages.\n",
    "+ *Assistant* messages are generated by the model."
   ]
  },
  {
   "cell_type": "code",
   "execution_count": null,
   "id": "f9bb5a80",
   "metadata": {},
   "outputs": [],
   "source": [
    "system_prompt = \"You are an anthropologist specializing in ancient fables with the vocabulary of Uncle Rogers, the TV character.\""
   ]
  },
  {
   "cell_type": "code",
   "execution_count": null,
   "id": "f5942d14",
   "metadata": {},
   "outputs": [],
   "source": [
    "the_ant = \"\"\"\n",
    "Ants were once men and made their living by tilling the soil. But, not content with the results of their own work, they were always casting longing eyes upon the crops and fruits of their neighbours, which they stole, whenever they got the chance, and added to their own store. At last their covetousness made Jupiter so angry that he changed them into Ants. But, though their forms were changed, their nature remained the same: and so, to this day, they go about among the cornfields and gather the fruits of others’ labour, and store them up for their own use.\n",
    "\"\"\"\n",
    "\n",
    "prompt = f\"\"\"\n",
    "    Please, extract the main message of this fable written by Aesop.\n",
    "    The fable is the following: \n",
    "    <fable>\n",
    "    {the_ant}\n",
    "    </fable>\n",
    "\"\"\""
   ]
  },
  {
   "cell_type": "code",
   "execution_count": null,
   "id": "67a5302d",
   "metadata": {},
   "outputs": [],
   "source": [
    "response = client.responses.create(\n",
    "    model=\"gpt-4o\",\n",
    "    instructions = system_prompt,\n",
    "    input = prompt,\n",
    ")\n",
    "\n",
    "print(response.output_text)"
   ]
  }
 ],
 "metadata": {
  "kernelspec": {
   "display_name": "deploying-ai-env",
   "language": "python",
   "name": "python3"
  },
  "language_info": {
   "codemirror_mode": {
    "name": "ipython",
    "version": 3
   },
   "file_extension": ".py",
   "mimetype": "text/x-python",
   "name": "python",
   "nbconvert_exporter": "python",
   "pygments_lexer": "ipython3",
   "version": "3.12.2"
  }
 },
 "nbformat": 4,
 "nbformat_minor": 5
}
